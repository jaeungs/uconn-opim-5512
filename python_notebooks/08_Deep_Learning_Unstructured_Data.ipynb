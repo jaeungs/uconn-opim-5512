{
  "nbformat": 4,
  "nbformat_minor": 0,
  "metadata": {
    "colab": {
      "provenance": []
    },
    "kernelspec": {
      "name": "python3",
      "display_name": "Python 3"
    },
    "language_info": {
      "name": "python"
    },
    "gpuClass": "standard"
  },
  "cells": [
    {
      "cell_type": "markdown",
      "source": [
        "## **#08: Deep Learning: Unstructured Data (CNN and RNN)**\n",
        "- Instructor: [Jaeung Sim](https://jaeungs.github.io/) (University of Connecticut)\n",
        "- Course: OPIM 5512 Data Science Using Python\n",
        "- Last updated: March 26, 2025"
      ],
      "metadata": {
        "id": "GSYmE0DANNuf"
      }
    },
    {
      "cell_type": "markdown",
      "source": [
        "**Objectives**\n",
        "1. Train and test an image classification model using convolutional neural networks (CNNs).\n",
        "1. Build a natural language processing (NLP) model with recurrent neural networks (RNNs) to classify texts.\n",
        "\n",
        "**References**\n",
        "* [Deep Learning Basics by Google Colab](https://colab.research.google.com/github/lexfridman/mit-deep-learning/blob/master/tutorial_deep_learning_basics/deep_learning_basics.ipynb)\n",
        "* [MNIST handwritten digit database](https://www.tensorflow.org/datasets/catalog/mnist)\n",
        "* [Text classification with an RNN by TensorFlow](https://www.tensorflow.org/text/tutorials/text_classification_rnn)\n",
        "* [Large Movie Review Dataset](https://ai.stanford.edu/~amaas/data/sentiment/)\n",
        "* [Masking and padding with Keras by TensorFlow](https://www.tensorflow.org/guide/keras/masking_and_padding)"
      ],
      "metadata": {
        "id": "zwQEy_kHNgFG"
      }
    },
    {
      "cell_type": "markdown",
      "source": [
        "#### **Part 1. Classification of MNIST Handwritten Digit with CNNs**"
      ],
      "metadata": {
        "id": "YMCpJs4HOKZM"
      }
    },
    {
      "cell_type": "markdown",
      "source": [
        "In this practice, you will build a convolutional neural network (CNN) classifier to classify images of handwritten digits in the [MNIST dataset](https://www.tensorflow.org/datasets/catalog/mnist) with a twist where we test our classifier on high-resolution hand-written digits from outside the dataset."
      ],
      "metadata": {
        "id": "grNNhEfKAxcm"
      }
    },
    {
      "cell_type": "markdown",
      "source": [
        "##### **1.1. Setup**"
      ],
      "metadata": {
        "id": "9D7vuDTvBeeF"
      }
    },
    {
      "cell_type": "code",
      "source": [
        "# TensorFlow and tf.keras\n",
        "import tensorflow as tf\n",
        "from tensorflow import keras\n",
        "from tensorflow.keras.layers import Conv2D, MaxPooling2D, Dropout, Flatten, Dense\n",
        "\n",
        "# Commonly used modules\n",
        "import numpy as np\n",
        "import pandas as pd\n",
        "import os\n",
        "import sys\n",
        "\n",
        "# Images, plots, display, and visualization\n",
        "import matplotlib.pyplot as plt\n",
        "import seaborn as sns\n",
        "import cv2\n",
        "import IPython\n",
        "from six.moves import urllib\n",
        "\n",
        "print(tf.__version__)"
      ],
      "metadata": {
        "colab": {
          "base_uri": "https://localhost:8080/"
        },
        "id": "8tws14-wAnuw",
        "outputId": "832d89a6-eeb4-41eb-c539-211fb4b1c72c"
      },
      "execution_count": 1,
      "outputs": [
        {
          "output_type": "stream",
          "name": "stdout",
          "text": [
            "2.18.0\n"
          ]
        }
      ]
    },
    {
      "cell_type": "code",
      "source": [
        "# Set common constants\n",
        "this_repo_url = 'https://github.com/lexfridman/mit-deep-learning/raw/master/'\n",
        "this_tutorial_url = this_repo_url + 'tutorial_deep_learning_basics'"
      ],
      "metadata": {
        "id": "CoRQlUlRCExP"
      },
      "execution_count": 2,
      "outputs": []
    },
    {
      "cell_type": "markdown",
      "source": [
        "The MNIST dataset containss 70,000 grayscale images of handwritten digits at a resolution of 28 by 28 pixels. The task is to take one of these images as input and predict the most likely digit contained in the image (along with a relative confidence in this prediction):\n",
        "\n",
        "<img src=\"https://i.imgur.com/ITrm9x4.png\" width=\"500px\">\n",
        "\n",
        "Now, we load the dataset. The images are 28 x 28 NumPy arrays, with pixel values ranging between 0 and 255. The *labels* are an array of integers, ranging from 0 to 9."
      ],
      "metadata": {
        "id": "jg-5e4jYCJMK"
      }
    },
    {
      "cell_type": "code",
      "source": [
        "# Load the dataset with 60,000 train and 10,000 test images\n",
        "(train_images, train_labels), (test_images, test_labels) = keras.datasets.mnist.load_data()\n",
        "\n",
        "# Reshape images to specify that it's a single channel\n",
        "train_images = train_images.reshape(train_images.shape[0], 28, 28, 1) # Number of images, 1D array of size (28 x 28), Number of channels\n",
        "test_images = test_images.reshape(test_images.shape[0], 28, 28, 1)"
      ],
      "metadata": {
        "colab": {
          "base_uri": "https://localhost:8080/"
        },
        "id": "DC5QMtQWCIYf",
        "outputId": "41752bfe-52f0-494d-ee15-70e0cff0f5cb"
      },
      "execution_count": 3,
      "outputs": [
        {
          "output_type": "stream",
          "name": "stdout",
          "text": [
            "Downloading data from https://storage.googleapis.com/tensorflow/tf-keras-datasets/mnist.npz\n",
            "\u001b[1m11490434/11490434\u001b[0m \u001b[32m━━━━━━━━━━━━━━━━━━━━\u001b[0m\u001b[37m\u001b[0m \u001b[1m0s\u001b[0m 0us/step\n"
          ]
        }
      ]
    },
    {
      "cell_type": "markdown",
      "source": [
        "We scale these values to a range of 0 to 1 before feeding to the neural network model. For this, we divide the values by 255. It's important that the *training set* and the *testing set* are preprocessed in the same way:"
      ],
      "metadata": {
        "id": "CNptgRFlCm67"
      }
    },
    {
      "cell_type": "code",
      "source": [
        "# Divide the pixel values by 255\n",
        "def preprocess_images(imgs):\n",
        "    # Should work for both a single image and an array of multiple images\n",
        "    sample_img = imgs if len(imgs.shape) == 2 else imgs[0]\n",
        "    # Check that the input images have the expected shape:\n",
        "    # 1) 28x28 pixel images with one color channel (grayscale)\n",
        "    # 2) 28x28 pixel images with multiple color channels\n",
        "    assert sample_img.shape in [(28, 28, 1), (28, 28)], sample_img.shape\n",
        "    # Normalize the pixel values of the input images by dividing them by 255.0\n",
        "    return imgs / 255.0\n",
        "\n",
        "train_images = preprocess_images(train_images)\n",
        "test_images = preprocess_images(test_images)"
      ],
      "metadata": {
        "id": "fgjjXHxCC27z"
      },
      "execution_count": 4,
      "outputs": []
    },
    {
      "cell_type": "markdown",
      "source": [
        "Display the first 5 images from the *training set* and display the class name below each image. Verify that the data is in the correct format and we're ready to build and train the network."
      ],
      "metadata": {
        "id": "0j0jWjR9F_O9"
      }
    },
    {
      "cell_type": "code",
      "source": [
        "# Display first 5 images from the training set\n",
        "plt.figure(figsize=(10,2))\n",
        "for i in range(5):\n",
        "    plt.subplot(1,5,i+1)\n",
        "    plt.xticks([])\n",
        "    plt.yticks([])\n",
        "    plt.grid(False)\n",
        "    plt.imshow(train_images[i].reshape(28, 28), cmap=plt.cm.binary)\n",
        "    plt.xlabel(train_labels[i])"
      ],
      "metadata": {
        "colab": {
          "base_uri": "https://localhost:8080/",
          "height": 190
        },
        "id": "17xaylsgGA6I",
        "outputId": "b4d7efc5-4287-4f6b-e20c-45e226bf8cfd"
      },
      "execution_count": 5,
      "outputs": [
        {
          "output_type": "display_data",
          "data": {
            "text/plain": [
              "<Figure size 1000x200 with 5 Axes>"
            ],
            "image/png": "[encoded data removed]"
          },
          "metadata": {}
        }
      ]
    },
    {
      "cell_type": "markdown",
      "source": [
        "##### **1.2. Building and Training the Model**"
      ],
      "metadata": {
        "id": "zTPuhghqGLnL"
      }
    },
    {
      "cell_type": "markdown",
      "source": [
        "Building the neural network requires configuring the layers of the model, then compiling the model. In many cases, this can be reduced to simply stacking together layers."
      ],
      "metadata": {
        "id": "H9MNPBxsGghR"
      }
    },
    {
      "cell_type": "markdown",
      "source": [
        "The following code designs a CNN architecture as follows:\n",
        "1. The input layer takes images of size 28 x 28 x 1 (one channel for grayscale) as input.\n",
        "1. The first layer applies 32 convolution filters of size 3 x 3 with ReLU activation.\n",
        "1. The second layer applies 64 convolution filters of size 3 x 3 with ReLU activation.\n",
        "1. A max pooling layer is used to downsample the image, reducing its dimensions.\n",
        "1. A dropout layer randomly turns off 25% of the neurons to reduce overfitting and improve convergence.\n",
        "1. The output from the convolutional layers is flattened into a 1D array.\n",
        "1. A fully connected layer with 128 neurons and ReLU activation is used to obtain all relevant data.\n",
        "1. Another dropout layer is applied to further reduce overfitting.\n",
        "1. The output layer consists of 10 neurons, each representing a class, with a softmax activation function to squash the matrix into output probabilities."
      ],
      "metadata": {
        "id": "wy1SNJJJHRuO"
      }
    },
    {
      "cell_type": "code",
      "source": [
        "model = keras.Sequential()\n",
        "# 32 convolution filters used each of size 3x3\n",
        "model.add(Conv2D(32, kernel_size=(3, 3), activation='relu', input_shape=(28, 28, 1)))\n",
        "# 64 convolution filters used each of size 3x3\n",
        "model.add(Conv2D(64, (3, 3), activation='relu'))\n",
        "# Choose the best features via max pooling\n",
        "model.add(MaxPooling2D(pool_size=(2, 2)))\n",
        "# Randomly turn neurons on and off to improve convergence\n",
        "model.add(Dropout(0.25))\n",
        "# Flatten since too many dimensions, we only want a classification output\n",
        "model.add(Flatten())\n",
        "# Fully connected to get all relevant data\n",
        "model.add(Dense(128, activation='relu'))\n",
        "# One more dropout\n",
        "model.add(Dropout(0.5))\n",
        "# Output a softmax to squash the matrix into output probabilities\n",
        "model.add(Dense(10, activation='softmax'))"
      ],
      "metadata": {
        "id": "gSMVZloLGhAw",
        "colab": {
          "base_uri": "https://localhost:8080/"
        },
        "outputId": "97dabc40-76e6-4ca5-d697-bb84ee3f7dd0"
      },
      "execution_count": 6,
      "outputs": [
        {
          "output_type": "stream",
          "name": "stderr",
          "text": [
            "/usr/local/lib/python3.11/dist-packages/keras/src/layers/convolutional/base_conv.py:107: UserWarning: Do not pass an `input_shape`/`input_dim` argument to a layer. When using Sequential models, prefer using an `Input(shape)` object as the first layer in the model instead.\n",
            "  super().__init__(activity_regularizer=activity_regularizer, **kwargs)\n"
          ]
        }
      ]
    },
    {
      "cell_type": "markdown",
      "source": [
        "Before the model is ready for training, it needs a few more settings. These are added during the model's *compile* step:\n",
        "\n",
        "* *Loss function* - measures how accurate the model is during training, we want to minimize this with the optimizer.\n",
        "* *Optimizer* - how the model is updated based on the data it sees and its loss function.\n",
        "* *Metrics* - used to monitor the training and testing steps. \"accuracy\" is the fraction of images that are correctly classified."
      ],
      "metadata": {
        "id": "Tvsnvz1vJroM"
      }
    },
    {
      "cell_type": "code",
      "source": [
        "# Compile the model\n",
        "model.compile(optimizer=tf.keras.optimizers.Adam(),\n",
        "              loss='sparse_categorical_crossentropy',\n",
        "              metrics=['accuracy'])"
      ],
      "metadata": {
        "id": "l2og9CUiJqxu"
      },
      "execution_count": 7,
      "outputs": []
    },
    {
      "cell_type": "markdown",
      "source": [
        "Training the neural network model requires the following steps:\n",
        "\n",
        "1. Feed the training data to the model—in this example, the `train_images` and `train_labels` arrays.\n",
        "2. The model learns to associate images and labels.\n",
        "3. We ask the model to make predictions about a test set—in this example, the `test_images` array. We verify that the predictions match the labels from the `test_labels` array.\n",
        "\n",
        "To start training,  call the `model.fit` method—the model is \"fit\" to the training data:"
      ],
      "metadata": {
        "id": "dDZh4XBqJ-28"
      }
    },
    {
      "cell_type": "code",
      "source": [
        "# Train the model\n",
        "history = model.fit(train_images, train_labels, epochs=5)"
      ],
      "metadata": {
        "colab": {
          "base_uri": "https://localhost:8080/"
        },
        "id": "VIPSji1-KJfE",
        "outputId": "95619e0c-d807-46f1-ac24-033ef321332b"
      },
      "execution_count": 8,
      "outputs": [
        {
          "output_type": "stream",
          "name": "stdout",
          "text": [
            "Epoch 1/5\n",
            "\u001b[1m1875/1875\u001b[0m \u001b[32m━━━━━━━━━━━━━━━━━━━━\u001b[0m\u001b[37m\u001b[0m \u001b[1m182s\u001b[0m 96ms/step - accuracy: 0.8899 - loss: 0.3464\n",
            "Epoch 2/5\n",
            "\u001b[1m1875/1875\u001b[0m \u001b[32m━━━━━━━━━━━━━━━━━━━━\u001b[0m\u001b[37m\u001b[0m \u001b[1m201s\u001b[0m 96ms/step - accuracy: 0.9737 - loss: 0.0833\n",
            "Epoch 3/5\n",
            "\u001b[1m1875/1875\u001b[0m \u001b[32m━━━━━━━━━━━━━━━━━━━━\u001b[0m\u001b[37m\u001b[0m \u001b[1m201s\u001b[0m 95ms/step - accuracy: 0.9821 - loss: 0.0597\n",
            "Epoch 4/5\n",
            "\u001b[1m1875/1875\u001b[0m \u001b[32m━━━━━━━━━━━━━━━━━━━━\u001b[0m\u001b[37m\u001b[0m \u001b[1m205s\u001b[0m 97ms/step - accuracy: 0.9856 - loss: 0.0469\n",
            "Epoch 5/5\n",
            "\u001b[1m1875/1875\u001b[0m \u001b[32m━━━━━━━━━━━━━━━━━━━━\u001b[0m\u001b[37m\u001b[0m \u001b[1m197s\u001b[0m 94ms/step - accuracy: 0.9881 - loss: 0.0379\n"
          ]
        }
      ]
    },
    {
      "cell_type": "code",
      "source": [
        "# Evaluate the model\n",
        "print(test_images.shape)\n",
        "test_loss, test_acc = model.evaluate(test_images, test_labels)\n",
        "\n",
        "print('Test accuracy:', test_acc)"
      ],
      "metadata": {
        "colab": {
          "base_uri": "https://localhost:8080/"
        },
        "id": "y8eeDefxLEHM",
        "outputId": "860539e9-0c4a-4715-9786-931c3d5f80e3"
      },
      "execution_count": 9,
      "outputs": [
        {
          "output_type": "stream",
          "name": "stdout",
          "text": [
            "(10000, 28, 28, 1)\n",
            "\u001b[1m313/313\u001b[0m \u001b[32m━━━━━━━━━━━━━━━━━━━━\u001b[0m\u001b[37m\u001b[0m \u001b[1m8s\u001b[0m 24ms/step - accuracy: 0.9887 - loss: 0.0345\n",
            "Test accuracy: 0.9908999800682068\n"
          ]
        }
      ]
    },
    {
      "cell_type": "markdown",
      "source": [
        "##### **1.3. (Optional) Real-time Prediction Demonstration**"
      ],
      "metadata": {
        "id": "spAa5wBTLLzY"
      }
    },
    {
      "cell_type": "markdown",
      "source": [
        "With the model trained, we can use it to make predictions about some images. Let's step outside the MNIST dataset for that and go with the beautiful high-resolution images generated by a mixture of CPPN, GAN, VAE. See [great blog post by hardmaru](http://blog.otoro.net/2016/04/01/generating-large-images-from-latent-vectors/) for the source data and a description of how these morphed animations are generated:\n",
        "\n",
        "![MNIST dream](https://i.imgur.com/OrUJs9V.gif)"
      ],
      "metadata": {
        "id": "YPFrQUeDLxXG"
      }
    },
    {
      "cell_type": "code",
      "source": [
        "mnist_dream_path = 'images/mnist_dream.mp4'\n",
        "mnist_prediction_path = 'images/mnist_dream_predicted.mp4'\n",
        "\n",
        "# Download the video if running in Colab\n",
        "if not os.path.isfile(mnist_dream_path):\n",
        "    print('downloading the sample video...')\n",
        "    vid_url = this_tutorial_url + '/' + mnist_dream_path\n",
        "\n",
        "    mnist_dream_path = urllib.request.urlretrieve(vid_url)[0]\n",
        "\n",
        "def smooth_imshow(img_disp):\n",
        "    plt.figure(figsize=(6, 6))\n",
        "    plt.axis('off')\n",
        "    plt.imshow(cv2.cvtColor(img_disp, cv2.COLOR_BGR2RGB))\n",
        "    plt.show()\n",
        "\n",
        "cap = cv2.VideoCapture(mnist_dream_path)\n",
        "vw = None\n",
        "frame = -1 # counter for debugging (mostly), 0-indexed\n",
        "\n",
        "# Go through all the frames and run our classifier on the high res MNIST images as they morph from number to number\n",
        "while True: # should 481 frames\n",
        "    frame += 1\n",
        "    ret, img = cap.read()\n",
        "    if not ret: break\n",
        "\n",
        "    assert img.shape[0] == img.shape[1] # should be a square\n",
        "    if img.shape[0] != 720:\n",
        "        img = cv2.resize(img, (720, 720))\n",
        "\n",
        "    # Preprocess the image for prediction\n",
        "    img_proc = cv2.cvtColor(img, cv2.COLOR_BGR2GRAY)\n",
        "    img_proc = cv2.resize(img_proc, (28, 28))\n",
        "    img_proc = preprocess_images(img_proc)\n",
        "    img_proc = 1 - img_proc # Inverse since training dataset is white text with black background\n",
        "\n",
        "    net_in = np.expand_dims(img_proc, axis=0) # Expand dimension to specify batch size of 1\n",
        "    net_in = np.expand_dims(net_in, axis=3) # Expand dimension to specify number of channels\n",
        "\n",
        "    preds = model.predict(net_in)[0]\n",
        "    guess = np.argmax(preds)\n",
        "    perc = np.rint(preds * 100).astype(int)\n",
        "\n",
        "    img = 255 - img\n",
        "    pad_color = 0\n",
        "    img = np.pad(img, ((0,0), (0,1280-720), (0,0)), mode='constant', constant_values=(pad_color))\n",
        "\n",
        "    line_type = cv2.LINE_AA\n",
        "    font_face = cv2.FONT_HERSHEY_SIMPLEX\n",
        "    font_scale = 1.3\n",
        "    thickness = 2\n",
        "    x, y = 740, 60\n",
        "    color = (255, 255, 255)\n",
        "\n",
        "    text = \"Neural Network Output:\"\n",
        "    cv2.putText(img, text=text, org=(x, y), fontScale=font_scale, fontFace=font_face, thickness=thickness,\n",
        "                    color=color, lineType=line_type)\n",
        "\n",
        "    text = \"Input:\"\n",
        "    cv2.putText(img, text=text, org=(30, y), fontScale=font_scale, fontFace=font_face, thickness=thickness,\n",
        "                    color=color, lineType=line_type)\n",
        "\n",
        "    y = 130\n",
        "    for i, p in enumerate(perc):\n",
        "        if i == guess: color = (255, 218, 158)\n",
        "        else: color = (100, 100, 100)\n",
        "\n",
        "        rect_width = 0\n",
        "        if p > 0: rect_width = int(p * 3.3)\n",
        "\n",
        "        rect_start = 180\n",
        "        cv2.rectangle(img, (x+rect_start, y-5), (x+rect_start+rect_width, y-20), color, -1)\n",
        "\n",
        "        text = '{}: {:>3}%'.format(i, int(p))\n",
        "        cv2.putText(img, text=text, org=(x, y), fontScale=font_scale, fontFace=font_face, thickness=thickness,\n",
        "                    color=color, lineType=line_type)\n",
        "        y += 60\n",
        "\n",
        "    # If you don't want to save the output as a video, set this to False\n",
        "    save_video = True\n",
        "\n",
        "    if save_video:\n",
        "        if vw is None:\n",
        "            codec = cv2.VideoWriter_fourcc(*'DIVX')\n",
        "            vid_width_height = img.shape[1], img.shape[0]\n",
        "            vw = cv2.VideoWriter(mnist_prediction_path, codec, 30, vid_width_height)\n",
        "        # 15 fps above doesn't work robustly so we right frame twice at 30 fps\n",
        "        vw.write(img)\n",
        "        vw.write(img)\n",
        "\n",
        "    # scale down image for display\n",
        "    img_disp = cv2.resize(img, (0,0), fx=0.5, fy=0.5)\n",
        "    IPython.display.clear_output(wait=True)\n",
        "    smooth_imshow(img_disp)\n",
        "\n",
        "cap.release()\n",
        "if vw is not None:\n",
        "    vw.release()"
      ],
      "metadata": {
        "colab": {
          "base_uri": "https://localhost:8080/",
          "height": 298
        },
        "id": "XoFTHlDXmIlN",
        "outputId": "fa67e3f7-34ec-4dc6-b542-2bca4c57290c"
      },
      "execution_count": 16,
      "outputs": [
        {
          "output_type": "display_data",
          "data": {
            "text/plain": [
              "<Figure size 600x600 with 1 Axes>"
            ],
            "image/png": "[encoded data removed]"
          },
          "metadata": {}
        }
      ]
    },
    {
      "cell_type": "markdown",
      "source": [
        "The above shows the prediction of the network by choosing the neuron with the highest output. While the output layer values add 1 to one, these do not reflect well-calibrated measures of \"uncertainty\". Often, the network is overly confident about the top choice that does not reflect a learned measure of probability. If everything ran correctly you should get an animation like this:\n",
        "\n",
        "![MNIST dream predictions](https://i.imgur.com/eMF9FOG.gif)"
      ],
      "metadata": {
        "id": "UZuiPPL3MPuC"
      }
    },
    {
      "cell_type": "markdown",
      "source": [
        "#### **Part 2. Text Classification of IMDb Movie Reviews with RNNs**"
      ],
      "metadata": {
        "id": "1FiDOj0TPRjx"
      }
    },
    {
      "cell_type": "markdown",
      "source": [
        "In this practice, you will train a RNN model on the [IMDb large movie review dataset](https://ai.stanford.edu/~amaas/data/sentiment/) for sentiment analysis.\n",
        "\n",
        "This dataset is constructed for binary sentiment classification and provides a set of 25,000 highly polar movie reviews for training, and 25,000 for testing. There is additional unlabeled data for use as well. Raw text and already processed bag of words formats are provided."
      ],
      "metadata": {
        "id": "0U1fBgGsQPr2"
      }
    },
    {
      "cell_type": "markdown",
      "source": [
        "##### **2.1. Setup**"
      ],
      "metadata": {
        "id": "86Z5l6OjQQST"
      }
    },
    {
      "cell_type": "code",
      "source": [
        "# Import libraries\n",
        "import numpy as np\n",
        "import tensorflow_datasets as tfds\n",
        "import tensorflow as tf\n",
        "\n",
        "tfds.disable_progress_bar()"
      ],
      "metadata": {
        "id": "mI1c6tDqQRo5"
      },
      "execution_count": 17,
      "outputs": []
    },
    {
      "cell_type": "code",
      "source": [
        "# Create a helper function to plot graphs using `matplotlib`\n",
        "import matplotlib.pyplot as plt\n",
        "\n",
        "def plot_graphs(history, metric):\n",
        "  plt.plot(history.history[metric])\n",
        "  plt.plot(history.history['val_'+metric], '')\n",
        "  plt.xlabel(\"Epochs\")\n",
        "  plt.ylabel(metric)\n",
        "  plt.legend([metric, 'val_'+metric])"
      ],
      "metadata": {
        "id": "S-mK3S7NQzVT"
      },
      "execution_count": 18,
      "outputs": []
    },
    {
      "cell_type": "markdown",
      "source": [
        "The IMDb large movie review dataset is a binary classification dataset—all the reviews have either a positive or negative sentiment. Let's download the dataset using `tfds`."
      ],
      "metadata": {
        "id": "9eIFLYcKQ-SX"
      }
    },
    {
      "cell_type": "code",
      "source": [
        "# Load the dataset\n",
        "dataset, info = tfds.load('imdb_reviews', with_info=True,\n",
        "                          as_supervised=True)\n",
        "train_dataset, test_dataset = dataset['train'], dataset['test']\n",
        "\n",
        "train_dataset.element_spec"
      ],
      "metadata": {
        "colab": {
          "base_uri": "https://localhost:8080/"
        },
        "id": "H28zh7KBRI68",
        "outputId": "9b64a03a-5da3-4799-a46c-87f295d72f8c"
      },
      "execution_count": 19,
      "outputs": [
        {
          "output_type": "stream",
          "name": "stderr",
          "text": [
            "WARNING:absl:Variant folder /root/tensorflow_datasets/imdb_reviews/plain_text/1.0.0 has no dataset_info.json\n"
          ]
        },
        {
          "output_type": "stream",
          "name": "stdout",
          "text": [
            "Downloading and preparing dataset Unknown size (download: Unknown size, generated: Unknown size, total: Unknown size) to /root/tensorflow_datasets/imdb_reviews/plain_text/1.0.0...\n",
            "Dataset imdb_reviews downloaded and prepared to /root/tensorflow_datasets/imdb_reviews/plain_text/1.0.0. Subsequent calls will reuse this data.\n"
          ]
        },
        {
          "output_type": "execute_result",
          "data": {
            "text/plain": [
              "(TensorSpec(shape=(), dtype=tf.string, name=None),\n",
              " TensorSpec(shape=(), dtype=tf.int64, name=None))"
            ]
          },
          "metadata": {},
          "execution_count": 19
        }
      ]
    },
    {
      "cell_type": "code",
      "source": [
        "# Return a dataset of (text, label) pairs\n",
        "for example, label in train_dataset.take(1):\n",
        "  print('Text: ', example.numpy())\n",
        "  print('Label: ', label.numpy())"
      ],
      "metadata": {
        "colab": {
          "base_uri": "https://localhost:8080/"
        },
        "id": "PKhlZvLeRkTu",
        "outputId": "89d85102-b7ee-4317-dc70-a65572717fb6"
      },
      "execution_count": 20,
      "outputs": [
        {
          "output_type": "stream",
          "name": "stdout",
          "text": [
            "Text:  b\"This was an absolutely terrible movie. Don't be lured in by Christopher Walken or Michael Ironside. Both are great actors, but this must simply be their worst role in history. Even their great acting could not redeem this movie's ridiculous storyline. This movie is an early nineties US propaganda piece. The most pathetic scenes were those when the Columbian rebels were making their cases for revolutions. Maria Conchita Alonso appeared phony, and her pseudo-love affair with Walken was nothing but a pathetic emotional plug in a movie that was devoid of any real meaning. I am disappointed that there are movies like this, ruining actor's like Christopher Walken's good name. I could barely sit through it.\"\n",
            "Label:  0\n"
          ]
        }
      ]
    },
    {
      "cell_type": "markdown",
      "source": [
        "Next shuffle the data for training and create batches of these `(text, label)` pairs.\n",
        "\n",
        "**FYI: Buffer Size vs. Batch Size**\n",
        "* The **buffer size** refers to the number of elements from the dataset that the data loader should prefetch in memory in order to speed up data loading. This is typically used when the dataset is too large to fit entirely in memory and needs to be loaded from disk or a remote location. A larger buffer size can lead to faster data loading, but can also consume more memory.\n",
        "* The **batch size**, on the other hand, refers to the number of samples that are processed by the model at once during each training iteration. In other words, the batch size determines how many samples are used to calculate the gradients that update the model's parameters. A larger batch size can lead to faster training, but can also require more memory and result in less accurate gradients due to increased noise."
      ],
      "metadata": {
        "id": "tQz5ZCgPR7JF"
      }
    },
    {
      "cell_type": "code",
      "source": [
        "# Set the buffer and batch sizes\n",
        "BUFFER_SIZE = 10000\n",
        "BATCH_SIZE = 64\n",
        "\n",
        "# Apply buffer and batch sizes to datasets\n",
        "train_dataset = train_dataset.shuffle(BUFFER_SIZE).batch(BATCH_SIZE).prefetch(tf.data.AUTOTUNE)\n",
        "test_dataset = test_dataset.batch(BATCH_SIZE).prefetch(tf.data.AUTOTUNE)"
      ],
      "metadata": {
        "id": "Q7JBQKyKSA20"
      },
      "execution_count": 21,
      "outputs": []
    },
    {
      "cell_type": "code",
      "source": [
        "# Print some examples from the shuffled dataset\n",
        "for example, label in train_dataset.take(1):\n",
        "  print('Texts: ', example.numpy()[:3])\n",
        "  print()\n",
        "  print('Labels: ', label.numpy()[:3])"
      ],
      "metadata": {
        "colab": {
          "base_uri": "https://localhost:8080/"
        },
        "id": "WpQrwVYmS-eR",
        "outputId": "3ec3e413-aaef-4608-ad65-a20e2f3fb7ef"
      },
      "execution_count": 22,
      "outputs": [
        {
          "output_type": "stream",
          "name": "stdout",
          "text": [
            "Texts:  [b\"In the Hollywood west those trail hands were a rough bunch who when they came to town, partied pretty hardy. After all trail driving was a lonely business back in the day before railroads got to all parts of the USA. <br /><br />The drovers who worked for trail boss Gil Favor as played by Eric Fleming were no different. But Fleming was a man of all business, he had a job to do and hired a top crew to do it. <br /><br />With the long run of Rawhide and the fact that the regulars stayed with it for the most part, we got to know all the drovers at some point. A some point story lines were focused around all of them, though the bulk were with Fleming and Clint Eastwood's character Rowdy Yates, the number 2 guy with the herd.<br /><br />Clint Eastwood's western image was molded by Rawhide, it's a shame that these are not shown more often. Probably because they were done in black and white. Had this been an NBC show, this would have been done in color like Bonanza and be running as often as those shows are. We'd get to see a lot more of a man who became a move legend.<br /><br />Ironically enough it was Eric Fleming who left the show before it closed to do films. He did a few them and was hoping the show would give him a bankable movie name. Sadly he was killed on a movie location doing an action film, drowned in a river. Had he lived he might have become a name like Eastwood's.<br /><br />Clint took over as trail boss in the last season and then the show completed its run. And he of course became the icon he is today and not just in the western genre.<br /><br />Rawhide was a tough western who had some tough guys in it. No frills in this one, these were working cowboys just doing a job and battling the elements and whatever situations they were thrown into every year.<br /><br />They really don't make television series like these any more. What a pity.\"\n",
            " b\"This movie is beautifully designed! There are no flaws. Not in the design of the set, the lighting, the sounds, the plot. The script is an invitation to a complex game where the participants are on a simple mission.<br /><br />Paxton is at his best in this role. His mannerisms, the infections used in the tones of his voice are without miscue. Each shot meticulously done! Surprises turn up one after another when the movie reaches past its first hour. This may not be the best picture of the year, but it's a gem that has been very well polished. It's not for the simple mind.\"\n",
            " b'I\\'m going to have to disagree with the previous comment and side with Maltin on this one. This is a second rate, excessively vicious Western that creaks and groans trying to put across its central theme of the Wild West being tamed and kicked aside by the steady march of time. It would like to be in the tradition of \"Butch Cassidy and the Sundance Kid\", but lacks that film\\'s poignancy and charm. Andrew McLaglen\\'s direction is limp, and the final 30 minutes or so are a real botch, with some incomprehensible strategy on the part of heroes Charlton Heston and Chris Mitchum. (Someone give me a holler if you can explain to me why they set that hillside on fire.) There was something callous about the whole treatment of the rape scene, and the woman\\'s reaction afterwards certainly did not ring true. Coburn is plenty nasty as the half breed escaped convict out for revenge, but all of his fellow escapees are underdeveloped (they\\'re like bowling pins to be knocked down one by one as the story lurches forward). Michael Parks gives one of his typically shifty, lethargic, mumbling performances, but in this case it was appropriate as his modern style sheriff symbolizes the complacency that technological progress can bring about.']\n",
            "\n",
            "Labels:  [1 1 0]\n"
          ]
        }
      ]
    },
    {
      "cell_type": "markdown",
      "source": [
        "##### **2.2. Building and Training the Model**"
      ],
      "metadata": {
        "id": "N4U4yvYWTvMM"
      }
    },
    {
      "cell_type": "markdown",
      "source": [
        "**A. Create the text encoder**\n",
        "\n",
        "The raw text loaded by `tfds` needs to be processed before it can be used in a model. The simplest way to process text for training is using the `TextVectorization` layer. This layer has many capabilities, but this practice sticks to the default behavior."
      ],
      "metadata": {
        "id": "S_0-A_UiTxll"
      }
    },
    {
      "cell_type": "markdown",
      "source": [
        "The following code creates a text encoder using the `TextVectorization` layer in TensorFlow as follows:\n",
        "\n",
        "1. The `max_tokens` parameter sets the maximum size of the vocabulary to be used by the encoder. In this case, it is set to 1000.\n",
        "\n",
        "1. The `adapt` method is called on the encoder object to build the vocabulary based on the training dataset. The `map` function is used to extract only the text data from the dataset, which is then passed to the `adapt` method. This allows the encoder to learn the vocabulary from the text data and create a mapping between words and integer indices.\n",
        "\n",
        "1. After the vocabulary has been built, the encoder can be used to transform the text data into a sequence of integer indices that can be fed into a neural network."
      ],
      "metadata": {
        "id": "30Eyq_yrUKl6"
      }
    },
    {
      "cell_type": "code",
      "source": [
        "# Create a text encoder\n",
        "VOCAB_SIZE = 1000\n",
        "encoder = tf.keras.layers.TextVectorization(\n",
        "    max_tokens=VOCAB_SIZE)\n",
        "encoder.adapt(train_dataset.map(lambda text, label: text))"
      ],
      "metadata": {
        "id": "yC4hCA32TwPz"
      },
      "execution_count": 23,
      "outputs": []
    },
    {
      "cell_type": "markdown",
      "source": [
        "The `.adapt` method sets the layer's vocabulary. Here are the first 20 tokens. After the padding and unknown tokens they're sorted by frequency:"
      ],
      "metadata": {
        "id": "kJR_InlXVVGu"
      }
    },
    {
      "cell_type": "code",
      "source": [
        "vocab = np.array(encoder.get_vocabulary())\n",
        "vocab[:20]"
      ],
      "metadata": {
        "colab": {
          "base_uri": "https://localhost:8080/"
        },
        "id": "KDepwiV4VXsA",
        "outputId": "2cb196e4-0db4-4090-ca7c-394ef118a402"
      },
      "execution_count": 24,
      "outputs": [
        {
          "output_type": "execute_result",
          "data": {
            "text/plain": [
              "array(['', '[UNK]', 'the', 'and', 'a', 'of', 'to', 'is', 'in', 'it', 'i',\n",
              "       'this', 'that', 'br', 'was', 'as', 'for', 'with', 'movie', 'but'],\n",
              "      dtype='<U14')"
            ]
          },
          "metadata": {},
          "execution_count": 24
        }
      ]
    },
    {
      "cell_type": "markdown",
      "source": [
        "Once the vocabulary is set, the layer can encode text into indices. The tensors of indices are 0-padded to the longest sequence in the batch (unless you set a fixed `output_sequence_length`):"
      ],
      "metadata": {
        "id": "jxb7TZRxVhKM"
      }
    },
    {
      "cell_type": "code",
      "source": [
        "encoded_example = encoder(example)[:3].numpy()\n",
        "encoded_example"
      ],
      "metadata": {
        "colab": {
          "base_uri": "https://localhost:8080/"
        },
        "id": "hypsgQ4ZWSZ3",
        "outputId": "29fc925e-2ba8-46d3-8d6b-da8ed7896e23"
      },
      "execution_count": 25,
      "outputs": [
        {
          "output_type": "execute_result",
          "data": {
            "text/plain": [
              "array([[  8,   2, 355, ...,   0,   0,   0],\n",
              "       [ 11,  18,   7, ...,   0,   0,   0],\n",
              "       [142, 166,   6, ...,   0,   0,   0]])"
            ]
          },
          "metadata": {},
          "execution_count": 25
        }
      ]
    },
    {
      "cell_type": "code",
      "source": [
        "for n in range(3):\n",
        "  print(\"Original: \", example[n].numpy())\n",
        "  print(\"Round-trip: \", \" \".join(vocab[encoded_example[n]]))\n",
        "  print()"
      ],
      "metadata": {
        "colab": {
          "base_uri": "https://localhost:8080/"
        },
        "id": "SGM18BHeWToB",
        "outputId": "bf5ffa66-a631-4739-ef1a-1165943a0870"
      },
      "execution_count": 26,
      "outputs": [
        {
          "output_type": "stream",
          "name": "stdout",
          "text": [
            "Original:  b\"In the Hollywood west those trail hands were a rough bunch who when they came to town, partied pretty hardy. After all trail driving was a lonely business back in the day before railroads got to all parts of the USA. <br /><br />The drovers who worked for trail boss Gil Favor as played by Eric Fleming were no different. But Fleming was a man of all business, he had a job to do and hired a top crew to do it. <br /><br />With the long run of Rawhide and the fact that the regulars stayed with it for the most part, we got to know all the drovers at some point. A some point story lines were focused around all of them, though the bulk were with Fleming and Clint Eastwood's character Rowdy Yates, the number 2 guy with the herd.<br /><br />Clint Eastwood's western image was molded by Rawhide, it's a shame that these are not shown more often. Probably because they were done in black and white. Had this been an NBC show, this would have been done in color like Bonanza and be running as often as those shows are. We'd get to see a lot more of a man who became a move legend.<br /><br />Ironically enough it was Eric Fleming who left the show before it closed to do films. He did a few them and was hoping the show would give him a bankable movie name. Sadly he was killed on a movie location doing an action film, drowned in a river. Had he lived he might have become a name like Eastwood's.<br /><br />Clint took over as trail boss in the last season and then the show completed its run. And he of course became the icon he is today and not just in the western genre.<br /><br />Rawhide was a tough western who had some tough guys in it. No frills in this one, these were working cowboys just doing a job and battling the elements and whatever situations they were thrown into every year.<br /><br />They really don't make television series like these any more. What a pity.\"\n",
            "Round-trip:  in the hollywood [UNK] those [UNK] hands were a [UNK] bunch who when they came to town [UNK] pretty [UNK] after all [UNK] [UNK] was a [UNK] business back in the day before [UNK] got to all parts of the [UNK] br br the [UNK] who worked for [UNK] [UNK] [UNK] [UNK] as played by [UNK] [UNK] were no different but [UNK] was a man of all business he had a job to do and [UNK] a top [UNK] to do it br br with the long run of [UNK] and the fact that the [UNK] [UNK] with it for the most part we got to know all the [UNK] at some point a some point story lines were [UNK] around all of them though the [UNK] were with [UNK] and [UNK] [UNK] character [UNK] [UNK] the number 2 guy with the [UNK] br [UNK] [UNK] [UNK] [UNK] was [UNK] by [UNK] its a shame that these are not shown more often probably because they were done in black and white had this been an [UNK] show this would have been done in [UNK] like [UNK] and be running as often as those shows are [UNK] get to see a lot more of a man who became a move [UNK] br [UNK] enough it was [UNK] [UNK] who left the show before it [UNK] to do films he did a few them and was [UNK] the show would give him a [UNK] movie name [UNK] he was killed on a movie [UNK] doing an action film [UNK] in a [UNK] had he [UNK] he might have become a name like [UNK] br [UNK] took over as [UNK] [UNK] in the last season and then the show [UNK] its run and he of course became the [UNK] he is today and not just in the [UNK] [UNK] br [UNK] was a [UNK] [UNK] who had some [UNK] guys in it no [UNK] in this one these were working [UNK] just doing a job and [UNK] the elements and whatever [UNK] they were [UNK] into every [UNK] br they really dont make television series like these any more what a [UNK]                                                                                                                                                                                                                                                                                                                                                                                                                                                     \n",
            "\n",
            "Original:  b\"This movie is beautifully designed! There are no flaws. Not in the design of the set, the lighting, the sounds, the plot. The script is an invitation to a complex game where the participants are on a simple mission.<br /><br />Paxton is at his best in this role. His mannerisms, the infections used in the tones of his voice are without miscue. Each shot meticulously done! Surprises turn up one after another when the movie reaches past its first hour. This may not be the best picture of the year, but it's a gem that has been very well polished. It's not for the simple mind.\"\n",
            "Round-trip:  this movie is [UNK] [UNK] there are no [UNK] not in the [UNK] of the set the [UNK] the sounds the plot the script is an [UNK] to a [UNK] game where the [UNK] are on a simple [UNK] br [UNK] is at his best in this role his [UNK] the [UNK] used in the [UNK] of his voice are without [UNK] each shot [UNK] done [UNK] turn up one after another when the movie [UNK] past its first hour this may not be the best picture of the year but its a [UNK] that has been very well [UNK] its not for the simple mind                                                                                                                                                                                                                                                                                                                                                                                                                                                                                                                                                                                                                                                                                                                  \n",
            "\n",
            "Original:  b'I\\'m going to have to disagree with the previous comment and side with Maltin on this one. This is a second rate, excessively vicious Western that creaks and groans trying to put across its central theme of the Wild West being tamed and kicked aside by the steady march of time. It would like to be in the tradition of \"Butch Cassidy and the Sundance Kid\", but lacks that film\\'s poignancy and charm. Andrew McLaglen\\'s direction is limp, and the final 30 minutes or so are a real botch, with some incomprehensible strategy on the part of heroes Charlton Heston and Chris Mitchum. (Someone give me a holler if you can explain to me why they set that hillside on fire.) There was something callous about the whole treatment of the rape scene, and the woman\\'s reaction afterwards certainly did not ring true. Coburn is plenty nasty as the half breed escaped convict out for revenge, but all of his fellow escapees are underdeveloped (they\\'re like bowling pins to be knocked down one by one as the story lurches forward). Michael Parks gives one of his typically shifty, lethargic, mumbling performances, but in this case it was appropriate as his modern style sheriff symbolizes the complacency that technological progress can bring about.'\n",
            "Round-trip:  im going to have to [UNK] with the previous comment and side with [UNK] on this one this is a second [UNK] [UNK] [UNK] [UNK] that [UNK] and [UNK] trying to put across its [UNK] theme of the [UNK] [UNK] being [UNK] and [UNK] [UNK] by the [UNK] [UNK] of time it would like to be in the [UNK] of [UNK] [UNK] and the [UNK] kid but [UNK] that films [UNK] and [UNK] [UNK] [UNK] direction is [UNK] and the final [UNK] minutes or so are a real [UNK] with some [UNK] [UNK] on the part of [UNK] [UNK] [UNK] and [UNK] [UNK] someone give me a [UNK] if you can [UNK] to me why they set that [UNK] on fire there was something [UNK] about the whole [UNK] of the [UNK] scene and the [UNK] [UNK] [UNK] certainly did not [UNK] true [UNK] is plenty [UNK] as the half [UNK] [UNK] [UNK] out for [UNK] but all of his [UNK] [UNK] are [UNK] theyre like [UNK] [UNK] to be [UNK] down one by one as the story [UNK] forward michael [UNK] gives one of his [UNK] [UNK] [UNK] [UNK] performances but in this case it was [UNK] as his modern style [UNK] [UNK] the [UNK] that [UNK] [UNK] can bring about                                                                                                                                                                                                                                                                                                                                                                                                                                                                                                                                                                                                        \n",
            "\n"
          ]
        }
      ]
    },
    {
      "cell_type": "markdown",
      "source": [
        "**B. Create the model**\n",
        "\n",
        "![image](https://www.tensorflow.org/static/text/tutorials/images/bidirectional.png)"
      ],
      "metadata": {
        "id": "1cZY2HAfWo60"
      }
    },
    {
      "cell_type": "markdown",
      "source": [
        "Above is a diagram of the model.\n",
        "\n",
        "1. This model can be build as a `tf.keras.Sequential`.\n",
        "\n",
        "2. The first layer is the `encoder`, which converts the text to a sequence of token indices.\n",
        "\n",
        "3. After the encoder is an embedding layer. An embedding layer stores one vector per word. When called, it converts the sequences of word indices to sequences of vectors. These vectors are trainable. After training (on enough data), words with similar meanings often have similar vectors.\n",
        "\n",
        "  This index-lookup is much more efficient than the equivalent operation of passing a one-hot encoded vector through a `tf.keras.layers.Dense` layer.\n",
        "\n",
        "4. A recurrent neural network (RNN) processes sequence input by iterating through the elements. RNNs pass the outputs from one timestep to their input on the next timestep.\n",
        "\n",
        "  The `tf.keras.layers.Bidirectional` wrapper can also be used with an RNN layer. This propagates the input forward and backwards through the RNN layer and then concatenates the final output.\n",
        "\n",
        "  * The main advantage of a bidirectional RNN is that the signal from the beginning of the input doesn't need to be processed all the way through every timestep to affect the output.  \n",
        "\n",
        "  * The main disadvantage of a bidirectional RNN is that you can't efficiently stream predictions as words are being added to the end.\n",
        "\n",
        "5. After the RNN has converted the sequence to a single vector the two `layers.Dense` do some final processing, and convert from this vector representation to a single logit as the classification output."
      ],
      "metadata": {
        "id": "GaiYnNA8W5Q0"
      }
    },
    {
      "cell_type": "markdown",
      "source": [
        "The code to implement this is below:"
      ],
      "metadata": {
        "id": "ARfWXvyuW7Lm"
      }
    },
    {
      "cell_type": "code",
      "source": [
        "# Build the model\n",
        "model = tf.keras.Sequential([\n",
        "    encoder,\n",
        "    tf.keras.layers.Embedding(\n",
        "        input_dim=len(encoder.get_vocabulary()),\n",
        "        output_dim=64,\n",
        "        # Use masking to handle the variable sequence lengths\n",
        "        mask_zero=True),\n",
        "    tf.keras.layers.Bidirectional(tf.keras.layers.LSTM(64)),\n",
        "    tf.keras.layers.Dense(64, activation='relu'),\n",
        "    tf.keras.layers.Dense(1)\n",
        "])"
      ],
      "metadata": {
        "id": "c41bkuP-W8an"
      },
      "execution_count": 29,
      "outputs": []
    },
    {
      "cell_type": "markdown",
      "source": [
        "**FYI: Masking and Padding**\n",
        "* **Masking** is a way to tell sequence-processing layers that certain timesteps in an input are missing, and thus should be skipped when processing the data.\n",
        "* **Padding** is a special form of masking where the masked steps are at the start or the end of a sequence. Padding comes from the need to encode sequence data into contiguous batches: in order to make all sequences in a batch fit a given standard length, it is necessary to pad or truncate some sequences."
      ],
      "metadata": {
        "id": "9o0gf-4uaQkc"
      }
    },
    {
      "cell_type": "markdown",
      "source": [
        "**Example of Padding Sequence Data with Tokenized Texts**\n",
        "\n",
        "```\n",
        "[\n",
        "  [\"Hello\", \"world\", \"!\"],\n",
        "  [\"How\", \"are\", \"you\", \"doing\", \"today\"],\n",
        "  [\"The\", \"weather\", \"will\", \"be\", \"nice\", \"tomorrow\"],\n",
        "]\n",
        "```\n",
        "\n",
        "After vocabulary lookup, the data might be vectorized as integers like:\n",
        "\n",
        "```\n",
        "[\n",
        "  [71, 1331, 4231]\n",
        "  [73, 8, 3215, 55, 927],\n",
        "  [83, 91, 1, 645, 1253, 927],\n",
        "]\n",
        "```\n",
        "\n",
        "The data is a nested list where individual samples have length 3, 5, and 6, respectively. Since the input data for a deep learning model must be a single tensor (of shape e.g., `(batch_size, 6, vocab_size)` in this case), samples that are shorter than the longest item need to be padded with some placeholder value (alternatively, one might also truncate long samples before padding short samples).\n",
        "\n",
        "Keras provides a utility function to truncate and pad Python lists to a common length: `tf.keras.preprocessing.sequence.pad_sequences`. By using this function, you may convert raw vectors into the following padded outcomes:\n",
        "\n",
        "```\n",
        "[[ 711  632   71    0    0    0]\n",
        " [  73    8 3215   55  927    0]\n",
        " [  83   91    1  645 1253  927]]\n",
        "```"
      ],
      "metadata": {
        "id": "3juMzBTjcHmX"
      }
    },
    {
      "cell_type": "markdown",
      "source": [
        "The embedding layer uses masking to handle the varying sequence-lengths. All the layers after the embedding support masking."
      ],
      "metadata": {
        "id": "pCRi4WfVcC6u"
      }
    },
    {
      "cell_type": "code",
      "source": [
        "# Check if each layer supports masking\n",
        "print([layer.supports_masking for layer in model.layers])"
      ],
      "metadata": {
        "colab": {
          "base_uri": "https://localhost:8080/"
        },
        "id": "UomJuCSlayHu",
        "outputId": "394dfc7e-e740-4a49-c650-c40f6eae45e2"
      },
      "execution_count": 30,
      "outputs": [
        {
          "output_type": "stream",
          "name": "stdout",
          "text": [
            "[False, True, True, True, True]\n"
          ]
        }
      ]
    },
    {
      "cell_type": "markdown",
      "source": [
        "**C. Train the model**"
      ],
      "metadata": {
        "id": "DHlmC5n-dtpS"
      }
    },
    {
      "cell_type": "code",
      "source": [
        "# Compile the model\n",
        "model.compile(loss=tf.keras.losses.BinaryCrossentropy(from_logits=True),\n",
        "              optimizer=tf.keras.optimizers.Adam(1e-4),\n",
        "              metrics=['accuracy'])"
      ],
      "metadata": {
        "id": "zWCYoHVzetHZ"
      },
      "execution_count": 32,
      "outputs": []
    },
    {
      "cell_type": "code",
      "source": [
        "# Train the RNN model\n",
        "history = model.fit(train_dataset, epochs=3,\n",
        "                    validation_data=test_dataset,\n",
        "                    validation_steps=30)"
      ],
      "metadata": {
        "colab": {
          "base_uri": "https://localhost:8080/"
        },
        "id": "uca-V42Ld6we",
        "outputId": "4b8a6f76-a416-4046-d2dd-fe3beb9d9b92"
      },
      "execution_count": 33,
      "outputs": [
        {
          "output_type": "stream",
          "name": "stdout",
          "text": [
            "Epoch 1/3\n",
            "\u001b[1m391/391\u001b[0m \u001b[32m━━━━━━━━━━━━━━━━━━━━\u001b[0m\u001b[37m\u001b[0m \u001b[1m785s\u001b[0m 2s/step - accuracy: 0.5187 - loss: 0.6794 - val_accuracy: 0.8188 - val_loss: 0.4514\n",
            "Epoch 2/3\n",
            "\u001b[1m391/391\u001b[0m \u001b[32m━━━━━━━━━━━━━━━━━━━━\u001b[0m\u001b[37m\u001b[0m \u001b[1m803s\u001b[0m 2s/step - accuracy: 0.7958 - loss: 0.4363 - val_accuracy: 0.8385 - val_loss: 0.3764\n",
            "Epoch 3/3\n",
            "\u001b[1m391/391\u001b[0m \u001b[32m━━━━━━━━━━━━━━━━━━━━\u001b[0m\u001b[37m\u001b[0m \u001b[1m777s\u001b[0m 2s/step - accuracy: 0.8395 - loss: 0.3631 - val_accuracy: 0.8557 - val_loss: 0.3454\n"
          ]
        }
      ]
    },
    {
      "cell_type": "code",
      "source": [
        "# Assess the model statistics\n",
        "test_loss, test_acc = model.evaluate(test_dataset)\n",
        "\n",
        "print('Test Loss:', test_loss)\n",
        "print('Test Accuracy:', test_acc)"
      ],
      "metadata": {
        "colab": {
          "base_uri": "https://localhost:8080/"
        },
        "id": "AczrccETd_ql",
        "outputId": "14475877-7e5f-4eaf-fe99-c51fcd8fe79b"
      },
      "execution_count": 34,
      "outputs": [
        {
          "output_type": "stream",
          "name": "stdout",
          "text": [
            "\u001b[1m391/391\u001b[0m \u001b[32m━━━━━━━━━━━━━━━━━━━━\u001b[0m\u001b[37m\u001b[0m \u001b[1m163s\u001b[0m 416ms/step - accuracy: 0.8573 - loss: 0.3384\n",
            "Test Loss: 0.3361680805683136\n",
            "Test Accuracy: 0.856719970703125\n"
          ]
        }
      ]
    },
    {
      "cell_type": "code",
      "source": [
        "# Visualize the history of loss and accuracy by epoch\n",
        "plt.figure(figsize=(16, 8))\n",
        "plt.subplot(1, 2, 1)\n",
        "plot_graphs(history, 'loss')\n",
        "plt.ylim(None, 1)\n",
        "plt.subplot(1, 2, 2)\n",
        "plot_graphs(history, 'accuracy')\n",
        "plt.ylim(0, None)"
      ],
      "metadata": {
        "colab": {
          "base_uri": "https://localhost:8080/",
          "height": 718
        },
        "id": "rpJjJOxHeKLz",
        "outputId": "aff1cc94-ee9e-4072-e86f-17ca4d32f4f9"
      },
      "execution_count": 35,
      "outputs": [
        {
          "output_type": "execute_result",
          "data": {
            "text/plain": [
              "(0.0, 0.8692456215620041)"
            ]
          },
          "metadata": {},
          "execution_count": 35
        },
        {
          "output_type": "display_data",
          "data": {
            "text/plain": [
              "<Figure size 1600x800 with 2 Axes>"
            ],
            "image/png": "[encoded data removed]"
          },
          "metadata": {}
        }
      ]
    },
    {
      "cell_type": "markdown",
      "source": [
        "**D. Build and train the model by staking two or more LSTM layers**"
      ],
      "metadata": {
        "id": "o-AGTk94fPUz"
      }
    },
    {
      "cell_type": "markdown",
      "source": [
        "Keras recurrent layers have two available modes that are controlled by the `return_sequences` constructor argument:\n",
        "\n",
        "* If `False` it returns only the last output for each input sequence (a 2D tensor of shape (`batch_size, output_features`)). This is the default, used in the previous model.\n",
        "\n",
        "* If `True` the full sequences of successive outputs for each timestep is returned (a 3D tensor of shape `(batch_size, timesteps, output_features)`).\n",
        "\n",
        "Here is what the flow of information looks like with `return_sequences=True`:\n",
        "\n",
        "![image](https://www.tensorflow.org/static/text/tutorials/images/layered_bidirectional.png)"
      ],
      "metadata": {
        "id": "TtwNO-YLffT4"
      }
    },
    {
      "cell_type": "markdown",
      "source": [
        "The interesting thing about using an RNN with `return_sequences=True` is that the output still has 3-axes, like the input, so it can be passed to another RNN layer, like this:"
      ],
      "metadata": {
        "id": "00OT1Zy8fo5P"
      }
    },
    {
      "cell_type": "code",
      "source": [
        "# Define the RNN architecture\n",
        "model = tf.keras.Sequential([\n",
        "    encoder,\n",
        "    tf.keras.layers.Embedding(len(encoder.get_vocabulary()), 64, mask_zero=True),\n",
        "    tf.keras.layers.Bidirectional(tf.keras.layers.LSTM(64, return_sequences=True)),\n",
        "    tf.keras.layers.Bidirectional(tf.keras.layers.LSTM(32)),\n",
        "    tf.keras.layers.Dense(64, activation='relu'),\n",
        "    tf.keras.layers.Dropout(0.5),\n",
        "    tf.keras.layers.Dense(1)\n",
        "])"
      ],
      "metadata": {
        "id": "4q3JIkDkfpW_"
      },
      "execution_count": 37,
      "outputs": []
    },
    {
      "cell_type": "code",
      "source": [
        "# Compile the model\n",
        "model.compile(loss=tf.keras.losses.BinaryCrossentropy(from_logits=True),\n",
        "              optimizer=tf.keras.optimizers.Adam(1e-4),\n",
        "              metrics=['accuracy'])"
      ],
      "metadata": {
        "id": "3NUljCFJgKoy"
      },
      "execution_count": 38,
      "outputs": []
    },
    {
      "cell_type": "code",
      "source": [
        "# Train the model\n",
        "history = model.fit(train_dataset, epochs=3,\n",
        "                    validation_data=test_dataset,\n",
        "                    validation_steps=30)"
      ],
      "metadata": {
        "colab": {
          "base_uri": "https://localhost:8080/"
        },
        "id": "NI5SMvNygOMZ",
        "outputId": "7ca598b3-3579-4639-d68d-0216add2b46a"
      },
      "execution_count": 39,
      "outputs": [
        {
          "output_type": "stream",
          "name": "stdout",
          "text": [
            "Epoch 1/3\n",
            "\u001b[1m391/391\u001b[0m \u001b[32m━━━━━━━━━━━━━━━━━━━━\u001b[0m\u001b[37m\u001b[0m \u001b[1m1479s\u001b[0m 4s/step - accuracy: 0.5176 - loss: 0.6830 - val_accuracy: 0.8010 - val_loss: 0.4444\n",
            "Epoch 2/3\n",
            "\u001b[1m391/391\u001b[0m \u001b[32m━━━━━━━━━━━━━━━━━━━━\u001b[0m\u001b[37m\u001b[0m \u001b[1m1492s\u001b[0m 4s/step - accuracy: 0.8133 - loss: 0.4203 - val_accuracy: 0.8453 - val_loss: 0.3638\n",
            "Epoch 3/3\n",
            "\u001b[1m391/391\u001b[0m \u001b[32m━━━━━━━━━━━━━━━━━━━━\u001b[0m\u001b[37m\u001b[0m \u001b[1m1462s\u001b[0m 4s/step - accuracy: 0.8539 - loss: 0.3464 - val_accuracy: 0.8458 - val_loss: 0.3345\n"
          ]
        }
      ]
    },
    {
      "cell_type": "code",
      "source": [
        "# Evaluate the model\n",
        "test_loss, test_acc = model.evaluate(test_dataset)\n",
        "\n",
        "print('Test Loss:', test_loss)\n",
        "print('Test Accuracy:', test_acc)"
      ],
      "metadata": {
        "colab": {
          "base_uri": "https://localhost:8080/"
        },
        "id": "oEKHwRQVgQLo",
        "outputId": "98a3cd01-d2c4-4fb0-fb5d-2248a94e9ad4"
      },
      "execution_count": 40,
      "outputs": [
        {
          "output_type": "stream",
          "name": "stdout",
          "text": [
            "\u001b[1m391/391\u001b[0m \u001b[32m━━━━━━━━━━━━━━━━━━━━\u001b[0m\u001b[37m\u001b[0m \u001b[1m295s\u001b[0m 754ms/step - accuracy: 0.8542 - loss: 0.3243\n",
            "Test Loss: 0.32103145122528076\n",
            "Test Accuracy: 0.8560799956321716\n"
          ]
        }
      ]
    },
    {
      "cell_type": "code",
      "source": [
        "# Visualize the results\n",
        "plt.figure(figsize=(16, 6))\n",
        "plt.subplot(1, 2, 1)\n",
        "plot_graphs(history, 'loss')\n",
        "plt.subplot(1, 2, 2)\n",
        "plot_graphs(history, 'accuracy')"
      ],
      "metadata": {
        "colab": {
          "base_uri": "https://localhost:8080/",
          "height": 546
        },
        "id": "QyBLTmgRgTu3",
        "outputId": "4bc19c12-a8ab-4c5c-8b70-8cef689aa2a3"
      },
      "execution_count": 41,
      "outputs": [
        {
          "output_type": "display_data",
          "data": {
            "text/plain": [
              "<Figure size 1600x600 with 2 Axes>"
            ],
            "image/png": "[encoded data removed]"
          },
          "metadata": {}
        }
      ]
    },
    {
      "cell_type": "code",
      "source": [],
      "metadata": {
        "id": "HgIGUE_Hi0ET"
      },
      "execution_count": null,
      "outputs": []
    }
  ]
}